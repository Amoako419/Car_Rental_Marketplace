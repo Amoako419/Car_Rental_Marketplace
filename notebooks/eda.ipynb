{
 "cells": [
  {
   "cell_type": "code",
   "execution_count": 1,
   "metadata": {},
   "outputs": [],
   "source": [
    "from pyspark.sql import SparkSession\n",
    "from pyspark.sql import functions as F"
   ]
  },
  {
   "cell_type": "code",
   "execution_count": 2,
   "metadata": {},
   "outputs": [],
   "source": [
    "spark = SparkSession.builder.appName(\"EDA\").getOrCreate()"
   ]
  },
  {
   "cell_type": "code",
   "execution_count": 3,
   "metadata": {},
   "outputs": [
    {
     "data": {
      "text/html": [
       "\n",
       "            <div>\n",
       "                <p><b>SparkSession - in-memory</b></p>\n",
       "                \n",
       "        <div>\n",
       "            <p><b>SparkContext</b></p>\n",
       "\n",
       "            <p><a href=\"http://AMALITECH-PC-11075:4040\">Spark UI</a></p>\n",
       "\n",
       "            <dl>\n",
       "              <dt>Version</dt>\n",
       "                <dd><code>v3.5.3</code></dd>\n",
       "              <dt>Master</dt>\n",
       "                <dd><code>local[*]</code></dd>\n",
       "              <dt>AppName</dt>\n",
       "                <dd><code>EDA</code></dd>\n",
       "            </dl>\n",
       "        </div>\n",
       "        \n",
       "            </div>\n",
       "        "
      ],
      "text/plain": [
       "<pyspark.sql.session.SparkSession at 0x213a9a6d7f0>"
      ]
     },
     "execution_count": 3,
     "metadata": {},
     "output_type": "execute_result"
    }
   ],
   "source": [
    "spark"
   ]
  },
  {
   "cell_type": "code",
   "execution_count": 6,
   "metadata": {},
   "outputs": [],
   "source": [
    "# Loading data \n",
    "locations = spark.read.csv(\"../data/locations.csv\", header=True, inferSchema=True)\n",
    "transactions = spark.read.csv(\"../data/rental_transactions.csv\", header=True, inferSchema=True) \n",
    "users = spark.read.csv(\"../data/users.csv\", header=True, inferSchema=True)\n",
    "vehicles = spark.read.csv(\"../data/vehicles.csv\", header=True, inferSchema=True)"
   ]
  },
  {
   "cell_type": "code",
   "execution_count": 7,
   "metadata": {},
   "outputs": [
    {
     "name": "stdout",
     "output_type": "stream",
     "text": [
      "+-----------+--------------------+--------------------+---------+-----+--------+-----------+----------+\n",
      "|location_id|       location_name|             address|     city|state|zip_code|   latitude| longitude|\n",
      "+-----------+--------------------+--------------------+---------+-----+--------+-----------+----------+\n",
      "|       2702|Jackson, Velazque...|3140 Heath Radial...|  Modesto|   CA|   94540|   86.25802| -169.2448|\n",
      "|       4380|            Bean LLC|51144 Patrick Isl...|  Fontana|   CA|   92188|-74.4558925|-42.279882|\n",
      "|       7709|     Gilbert-Simmons|    4738 Lewis Locks|Roseville|   CA|   91032|-65.4309305|-64.763489|\n",
      "|       8607|    Coleman-Robinson|  324 Robin Causeway|  Modesto|   CA|   93714| -64.281076|-77.669631|\n",
      "|       5499|        Deleon Group|    51725 Evans View|Roseville|   CA|   91849| 18.4951575|-154.76578|\n",
      "+-----------+--------------------+--------------------+---------+-----+--------+-----------+----------+\n",
      "only showing top 5 rows\n",
      "\n"
     ]
    }
   ],
   "source": [
    "locations.show(5)"
   ]
  },
  {
   "cell_type": "code",
   "execution_count": 8,
   "metadata": {},
   "outputs": [
    {
     "name": "stdout",
     "output_type": "stream",
     "text": [
      "+----------+----------+----------+-------------------+-------------------+---------------+----------------+------------+\n",
      "| rental_id|   user_id|vehicle_id|  rental_start_time|    rental_end_time|pickup_location|dropoff_location|total_amount|\n",
      "+----------+----------+----------+-------------------+-------------------+---------------+----------------+------------+\n",
      "|b139d8e1b2|320be8068b|0d52304987|2024-02-28 08:05:00|2024-03-01 05:05:00|           1497|            6785|       450.0|\n",
      "|7afd60f6d3|320be8068b|975d72985c|2024-01-07 20:16:00|2024-01-09 21:16:00|           5345|            2608|      2450.0|\n",
      "|733a9361bc|8f31b734a6|0d9f0f0fb9|2024-01-07 09:36:00|2024-01-07 17:36:00|           2546|            5442|        80.0|\n",
      "|6e546b69dd|8f31b734a6|967fdab45e|2024-01-05 11:30:00|2024-01-07 04:30:00|           8147|            4380|      2050.0|\n",
      "|acc192b64a|8f31b734a6|32d58ea4b7|2024-03-06 18:19:00|2024-03-09 14:19:00|           6290|            8932|      1360.0|\n",
      "+----------+----------+----------+-------------------+-------------------+---------------+----------------+------------+\n",
      "only showing top 5 rows\n",
      "\n"
     ]
    }
   ],
   "source": [
    "transactions.show(5)"
   ]
  },
  {
   "cell_type": "code",
   "execution_count": 9,
   "metadata": {},
   "outputs": [
    {
     "name": "stdout",
     "output_type": "stream",
     "text": [
      "+----------+----------+---------+--------------------+------------------+---------------------+---------------------+-------------+---------+\n",
      "|   user_id|first_name|last_name|               email|      phone_number|driver_license_number|driver_license_expiry|creation_date|is_active|\n",
      "+----------+----------+---------+--------------------+------------------+---------------------+---------------------+-------------+---------+\n",
      "|26d08ab733|      Lisa|   Parker|lisa.parker@gmail...|334.271.2972x60554|             MO028963|           2033-06-21|   2024-05-26|        1|\n",
      "|0a0430e6f9|  Courtney|   Martin|courtney.martin@y...|  826-262-0518x252|             VW966518|           2028-09-28|   2024-05-22|        0|\n",
      "|eb5d10cccd|    Andrew|  Mcclain|andrew.mcclain@ho...|   +1-467-858-1702|             WL839491|           2028-09-01|   2024-01-29|        1|\n",
      "|2a59127ee0|   Michael|   Hoover|michael.hoover@ya...|  001-220-342-6250|             UI603163|           2028-11-29|   2024-03-22|        1|\n",
      "|e3a46a2a11|     Molly|   Brooks|molly.brooks@yaho...|   +1-595-498-7645|             BJ158232|           2025-01-24|   2024-03-02|        1|\n",
      "+----------+----------+---------+--------------------+------------------+---------------------+---------------------+-------------+---------+\n",
      "only showing top 5 rows\n",
      "\n"
     ]
    }
   ],
   "source": [
    "users.show(5)"
   ]
  },
  {
   "cell_type": "code",
   "execution_count": 10,
   "metadata": {},
   "outputs": [
    {
     "name": "stdout",
     "output_type": "stream",
     "text": [
      "+------+----------------------+--------------------+----------------+---------------+---------------------+------------------+------------+---------------------+--------------------+----------+---------------------+---------+------------+\n",
      "|active|vehicle_license_number|   registration_name|    license_type|expiration_date|permit_license_number|certification_date|vehicle_year|base_telephone_number|        base_address|vehicle_id|last_update_timestamp|    brand|vehicle_type|\n",
      "+------+----------------------+--------------------+----------------+---------------+---------------------+------------------+------------+---------------------+--------------------+----------+---------------------+---------+------------+\n",
      "|     1|               5818886|CITY,LIVERY,LEASI...|FOR HIRE VEHICLE|     27-09-2025|             6EPABCVK|        2018-01-09|        2018|        (646)780-0129|1515 THIRD STREET...|67789f742d|  04-06-2024 13:25:00|  Ferrari|    high_end|\n",
      "|     1|               5520432|    FERNANDEZ,JOSE,A|FOR HIRE VEHICLE|     08-01-2026|             IC0VQ8EC|        2015-01-21|        2015|        (646)780-0129|1515 THIRD STREET...|70e8c42e4f|  04-06-2024 13:25:00|      BMW|     premium|\n",
      "|     1|               5790608| RIGO,LIMO-AUTO,CORP|FOR HIRE VEHICLE|     19-06-2025|             AGTGT62I|        2020-03-31|        2020|        (646)780-0129|1515 THIRD STREET...|aa2522d199|  04-06-2024 13:25:00|   Toyota|       basic|\n",
      "|     1|               6045671|    NARZIEV,LAZIZJON|FOR HIRE VEHICLE|     22-11-2025|             OO9QLG6E|        2022-11-09|        2022|        (646)780-0129|1515 THIRD STREET...|0984531ace|  04-06-2024 13:25:00|Chevrolet|       basic|\n",
      "|     1|               6022074|         YAQOOB,SAAD|FOR HIRE VEHICLE|     05-04-2025|             3U109JZC|        2018-11-29|        2018|        (646)780-0129|1515 THIRD STREET...|1ee2538be7|  04-06-2024 13:25:00|    Tesla|    high_end|\n",
      "+------+----------------------+--------------------+----------------+---------------+---------------------+------------------+------------+---------------------+--------------------+----------+---------------------+---------+------------+\n",
      "only showing top 5 rows\n",
      "\n"
     ]
    }
   ],
   "source": [
    "vehicles.show(5)"
   ]
  },
  {
   "cell_type": "markdown",
   "metadata": {},
   "source": [
    "### Spark Job 1"
   ]
  },
  {
   "cell_type": "code",
   "execution_count": 12,
   "metadata": {},
   "outputs": [
    {
     "name": "stdout",
     "output_type": "stream",
     "text": [
      "+---------------+-------------+\n",
      "|pickup_location|total_revenue|\n",
      "+---------------+-------------+\n",
      "|           1959|      58090.0|\n",
      "|           8928|      43470.0|\n",
      "|           1507|      57120.0|\n",
      "|           8932|      53890.0|\n",
      "|           9182|      63900.0|\n",
      "+---------------+-------------+\n",
      "only showing top 5 rows\n",
      "\n"
     ]
    }
   ],
   "source": [
    "#  Revenue per Location\n",
    "revenue_per_location_df = transactions.groupBy(\"pickup_location\").agg(F.sum(\"total_amount\").alias(\"total_revenue\"))\n",
    "revenue_per_location_df.show(5)"
   ]
  },
  {
   "cell_type": "code",
   "execution_count": 14,
   "metadata": {},
   "outputs": [
    {
     "name": "stdout",
     "output_type": "stream",
     "text": [
      "+---------------+------------------+\n",
      "|pickup_location|total_transactions|\n",
      "+---------------+------------------+\n",
      "|           1959|                69|\n",
      "|           8928|                66|\n",
      "|           1507|                77|\n",
      "|           8932|                65|\n",
      "|           9182|                75|\n",
      "+---------------+------------------+\n",
      "only showing top 5 rows\n",
      "\n"
     ]
    }
   ],
   "source": [
    "# Total Transactions per Location\n",
    "transactions_per_location_df = transactions.groupBy(\"pickup_location\").agg(F.count(\"rental_id\").alias(\"total_transactions\"))\n",
    "transactions_per_location_df.show(5)"
   ]
  },
  {
   "cell_type": "code",
   "execution_count": 16,
   "metadata": {},
   "outputs": [
    {
     "name": "stdout",
     "output_type": "stream",
     "text": [
      "+---------------+-----------------+---------------+---------------+\n",
      "|pickup_location|  avg_transaction|max_transaction|min_transaction|\n",
      "+---------------+-----------------+---------------+---------------+\n",
      "|           1959|841.8840579710145|         3600.0|           60.0|\n",
      "|           8928|658.6363636363636|         3200.0|           30.0|\n",
      "|           1507|741.8181818181819|         3250.0|           40.0|\n",
      "|           8932|829.0769230769231|         3500.0|           40.0|\n",
      "|           9182|            852.0|         3450.0|           20.0|\n",
      "+---------------+-----------------+---------------+---------------+\n",
      "only showing top 5 rows\n",
      "\n"
     ]
    }
   ],
   "source": [
    "# Average, Max, and Min Transaction Amounts\n",
    "transaction_amounts_df = transactions.groupBy(\"pickup_location\").agg(\n",
    "    F.avg(\"total_amount\").alias(\"avg_transaction\"),\n",
    "    F.max(\"total_amount\").alias(\"max_transaction\"),\n",
    "    F.min(\"total_amount\").alias(\"min_transaction\")\n",
    ")\n",
    "transaction_amounts_df.show(5)"
   ]
  },
  {
   "cell_type": "code",
   "execution_count": 17,
   "metadata": {},
   "outputs": [
    {
     "name": "stdout",
     "output_type": "stream",
     "text": [
      "+---------------+---------------+\n",
      "|pickup_location|unique_vehicles|\n",
      "+---------------+---------------+\n",
      "|           1959|             69|\n",
      "|           8928|             66|\n",
      "|           9182|             75|\n",
      "|           8932|             65|\n",
      "|           1507|             77|\n",
      "+---------------+---------------+\n",
      "only showing top 5 rows\n",
      "\n"
     ]
    }
   ],
   "source": [
    "# Unique Vehicles Used at Each Location\n",
    "unique_vehicles_per_location_df = transactions.groupBy(\"pickup_location\").agg(F.countDistinct(\"vehicle_id\").alias(\"unique_vehicles\"))\n",
    "unique_vehicles_per_location_df.show(5)"
   ]
  },
  {
   "cell_type": "code",
   "execution_count": 29,
   "metadata": {},
   "outputs": [
    {
     "name": "stdout",
     "output_type": "stream",
     "text": [
      "+---------------+-------------------------+---------------------------------+\n",
      "|pickup_location|total_revenue_by_location|total_rental_duration_by_location|\n",
      "+---------------+-------------------------+---------------------------------+\n",
      "|           1959|                  58090.0|                           2770.0|\n",
      "|           8928|                  43470.0|                           2230.0|\n",
      "|           1507|                  57120.0|                           2897.0|\n",
      "|           8932|                  53890.0|                           2318.0|\n",
      "|           9182|                  63900.0|                           2626.0|\n",
      "+---------------+-------------------------+---------------------------------+\n",
      "only showing top 5 rows\n",
      "\n"
     ]
    }
   ],
   "source": [
    "# Rental Duration and Revenue by Location\n",
    "# Calculate rental duration in hours and aggregate revenue and duration by location\n",
    "rental_duration_revenue_by_location_df = transactions.withColumn(\n",
    "    \"rental_duration_hours\", \n",
    "    (F.col(\"rental_end_time\").cast(\"long\") - F.col(\"rental_start_time\").cast(\"long\")) / 3600\n",
    ").groupBy(\"pickup_location\").agg(\n",
    "    F.sum(\"total_amount\").alias(\"total_revenue_by_location\"),\n",
    "    F.sum(\"rental_duration_hours\").alias(\"total_rental_duration_by_location\")\n",
    ")\n",
    "rental_duration_revenue_by_location_df.show(5)"
   ]
  },
  {
   "cell_type": "code",
   "execution_count": 32,
   "metadata": {},
   "outputs": [],
   "source": [
    "# Join all KPIs on location (and vehicle_type where applicable)\n",
    "\n",
    "final_kpi_df = revenue_per_location_df \\\n",
    "        .join(transactions_per_location_df, \"pickup_location\", \"left\") \\\n",
    "        .join(transaction_amounts_df, \"pickup_location\", \"left\") \\\n",
    "        .join(unique_vehicles_per_location_df, \"pickup_location\", \"left\") \\\n",
    "        .join(rental_duration_revenue_by_location_df, \"pickup_location\", \"left\")\n",
    "\n"
   ]
  },
  {
   "cell_type": "code",
   "execution_count": 34,
   "metadata": {},
   "outputs": [
    {
     "name": "stdout",
     "output_type": "stream",
     "text": [
      "+---------------+-------------+------------------+-----------------+---------------+---------------+---------------+-------------------------+---------------------------------+\n",
      "|pickup_location|total_revenue|total_transactions|avg_transaction  |max_transaction|min_transaction|unique_vehicles|total_revenue_by_location|total_rental_duration_by_location|\n",
      "+---------------+-------------+------------------+-----------------+---------------+---------------+---------------+-------------------------+---------------------------------+\n",
      "|1959           |58090.0      |69                |841.8840579710145|3600.0         |60.0           |69             |58090.0                  |2770.0                           |\n",
      "|8928           |43470.0      |66                |658.6363636363636|3200.0         |30.0           |66             |43470.0                  |2230.0                           |\n",
      "|1507           |57120.0      |77                |741.8181818181819|3250.0         |40.0           |77             |57120.0                  |2897.0                           |\n",
      "|8932           |53890.0      |65                |829.0769230769231|3500.0         |40.0           |65             |53890.0                  |2318.0                           |\n",
      "|9182           |63900.0      |75                |852.0            |3450.0         |20.0           |75             |63900.0                  |2626.0                           |\n",
      "|4219           |36170.0      |56                |645.8928571428571|3050.0         |20.0           |56             |36170.0                  |1846.0                           |\n",
      "|5345           |64980.0      |81                |802.2222222222222|3400.0         |10.0           |81             |64980.0                  |2642.0                           |\n",
      "|5984           |65260.0      |84                |776.9047619047619|3350.0         |10.0           |84             |65260.0                  |2760.0                           |\n",
      "|9558           |47840.0      |60                |797.3333333333334|3250.0         |30.0           |59             |47840.0                  |2191.0                           |\n",
      "|8779           |57000.0      |76                |750.0            |3500.0         |30.0           |76             |57000.0                  |2957.0                           |\n",
      "+---------------+-------------+------------------+-----------------+---------------+---------------+---------------+-------------------------+---------------------------------+\n",
      "only showing top 10 rows\n",
      "\n"
     ]
    }
   ],
   "source": [
    "final_kpi_df.show(10, truncate=False)"
   ]
  },
  {
   "cell_type": "markdown",
   "metadata": {},
   "source": [
    "### Spark Job 2"
   ]
  },
  {
   "cell_type": "code",
   "execution_count": 39,
   "metadata": {},
   "outputs": [],
   "source": [
    "# Convert rental_start_time to date for daily aggregations\n",
    "transactions = transactions.withColumn(\"rental_date\", F.date_format(F.col(\"rental_start_time\"), \"yyyy-MM-dd\"))"
   ]
  },
  {
   "cell_type": "code",
   "execution_count": 40,
   "metadata": {},
   "outputs": [
    {
     "name": "stdout",
     "output_type": "stream",
     "text": [
      "+-----------+------------------+\n",
      "|rental_date|total_transactions|\n",
      "+-----------+------------------+\n",
      "| 2024-01-19|               115|\n",
      "| 2024-04-03|               124|\n",
      "| 2024-02-28|               144|\n",
      "| 2024-02-08|               135|\n",
      "| 2024-01-13|               124|\n",
      "+-----------+------------------+\n",
      "only showing top 5 rows\n",
      "\n"
     ]
    }
   ],
   "source": [
    "# Compute Total Transactions per Day\n",
    "transactions_per_day = transactions.groupBy(\"rental_date\").agg(F.count(\"rental_id\").alias(\"total_transactions\"))\n",
    "transactions_per_day.show(5)"
   ]
  },
  {
   "cell_type": "code",
   "execution_count": 42,
   "metadata": {},
   "outputs": [
    {
     "name": "stdout",
     "output_type": "stream",
     "text": [
      "+-----------+-------------+\n",
      "|rental_date|total_revenue|\n",
      "+-----------+-------------+\n",
      "| 2024-01-19|      93910.0|\n",
      "| 2024-04-03|     101350.0|\n",
      "| 2024-02-28|     104200.0|\n",
      "| 2024-02-08|     106030.0|\n",
      "| 2024-01-13|      96870.0|\n",
      "+-----------+-------------+\n",
      "only showing top 5 rows\n",
      "\n"
     ]
    }
   ],
   "source": [
    "# Compute Revenue per Day\n",
    "revenue_per_day = transactions.groupBy(\"rental_date\").agg(F.sum(\"total_amount\").alias(\"total_revenue\"))\n",
    "revenue_per_day.show(5)"
   ]
  },
  {
   "cell_type": "code",
   "execution_count": 44,
   "metadata": {},
   "outputs": [
    {
     "name": "stdout",
     "output_type": "stream",
     "text": [
      "+----------+-----------+-------------------+\n",
      "|   user_id|total_spent|avg_rental_duration|\n",
      "+----------+-----------+-------------------+\n",
      "|5144945047|     1640.0|           172800.0|\n",
      "|0e672a709e|     1280.0|           144000.0|\n",
      "|a39cfd7ab5|      510.0|           183600.0|\n",
      "|010ad799a1|     1440.0|           259200.0|\n",
      "|b31a334b34|     1470.0|           172800.0|\n",
      "+----------+-----------+-------------------+\n",
      "only showing top 5 rows\n",
      "\n"
     ]
    }
   ],
   "source": [
    "# Compute User-specific Spending and Rental Duration Metrics\n",
    "user_metrics = transactions.groupBy(\"user_id\").agg(\n",
    "    F.sum(\"total_amount\").alias(\"total_spent\"),\n",
    "    F.avg(F.col(\"rental_end_time\").cast(\"long\") - F.col(\"rental_start_time\").cast(\"long\")).alias(\"avg_rental_duration\")\n",
    ")\n",
    "user_metrics.show(5)"
   ]
  },
  {
   "cell_type": "code",
   "execution_count": 46,
   "metadata": {},
   "outputs": [
    {
     "name": "stdout",
     "output_type": "stream",
     "text": [
      "+----------------------+----------------------+\n",
      "|max_transaction_amount|min_transaction_amount|\n",
      "+----------------------+----------------------+\n",
      "|                3600.0|                  10.0|\n",
      "+----------------------+----------------------+\n",
      "\n"
     ]
    }
   ],
   "source": [
    "# Compute Maximum and Minimum Transaction Amounts\n",
    "transaction_amounts = transactions.agg(\n",
    "    F.max(\"total_amount\").alias(\"max_transaction_amount\"),\n",
    "    F.min(\"total_amount\").alias(\"min_transaction_amount\")\n",
    ")\n",
    "transaction_amounts.show(5)"
   ]
  },
  {
   "cell_type": "code",
   "execution_count": 47,
   "metadata": {},
   "outputs": [],
   "source": [
    "kpi_df = transactions_per_day \\\n",
    "    .join(revenue_per_day, \"rental_date\", \"inner\") \\\n",
    "    .join(transaction_amounts)"
   ]
  },
  {
   "cell_type": "code",
   "execution_count": 48,
   "metadata": {},
   "outputs": [
    {
     "name": "stdout",
     "output_type": "stream",
     "text": [
      "+-----------+------------------+-------------+----------------------+----------------------+\n",
      "|rental_date|total_transactions|total_revenue|max_transaction_amount|min_transaction_amount|\n",
      "+-----------+------------------+-------------+----------------------+----------------------+\n",
      "| 2024-01-19|               115|      93910.0|                3600.0|                  10.0|\n",
      "| 2024-04-03|               124|     101350.0|                3600.0|                  10.0|\n",
      "| 2024-02-28|               144|     104200.0|                3600.0|                  10.0|\n",
      "| 2024-02-08|               135|     106030.0|                3600.0|                  10.0|\n",
      "| 2024-01-13|               124|      96870.0|                3600.0|                  10.0|\n",
      "+-----------+------------------+-------------+----------------------+----------------------+\n",
      "only showing top 5 rows\n",
      "\n"
     ]
    }
   ],
   "source": [
    "kpi_df.show(5)"
   ]
  }
 ],
 "metadata": {
  "kernelspec": {
   "display_name": "pyspark",
   "language": "python",
   "name": "python3"
  },
  "language_info": {
   "codemirror_mode": {
    "name": "ipython",
    "version": 3
   },
   "file_extension": ".py",
   "mimetype": "text/x-python",
   "name": "python",
   "nbconvert_exporter": "python",
   "pygments_lexer": "ipython3",
   "version": "3.13.0"
  }
 },
 "nbformat": 4,
 "nbformat_minor": 2
}
