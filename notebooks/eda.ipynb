{
 "cells": [
  {
   "cell_type": "code",
   "execution_count": 1,
   "metadata": {},
   "outputs": [],
   "source": [
    "from pyspark.sql import SparkSession\n",
    "from pyspark.sql import functions as F"
   ]
  },
  {
   "cell_type": "code",
   "execution_count": 2,
   "metadata": {},
   "outputs": [],
   "source": [
    "spark = SparkSession.builder \\\n",
    "    .appName(\"KPI_Job\") \\\n",
    "    .config(\"spark.executor.memory\", \"4g\") \\\n",
    "    .config(\"spark.driver.memory\", \"4g\") \\\n",
    "    .config(\"spark.executor.cores\", \"2\") \\\n",
    "    .getOrCreate()\n"
   ]
  },
  {
   "cell_type": "code",
   "execution_count": 3,
   "metadata": {},
   "outputs": [
    {
     "data": {
      "text/html": [
       "\n",
       "            <div>\n",
       "                <p><b>SparkSession - in-memory</b></p>\n",
       "                \n",
       "        <div>\n",
       "            <p><b>SparkContext</b></p>\n",
       "\n",
       "            <p><a href=\"http://AMALITECH-PC-11075:4040\">Spark UI</a></p>\n",
       "\n",
       "            <dl>\n",
       "              <dt>Version</dt>\n",
       "                <dd><code>v3.5.3</code></dd>\n",
       "              <dt>Master</dt>\n",
       "                <dd><code>local[*]</code></dd>\n",
       "              <dt>AppName</dt>\n",
       "                <dd><code>KPI_Job</code></dd>\n",
       "            </dl>\n",
       "        </div>\n",
       "        \n",
       "            </div>\n",
       "        "
      ],
      "text/plain": [
       "<pyspark.sql.session.SparkSession at 0x23d2c579550>"
      ]
     },
     "execution_count": 3,
     "metadata": {},
     "output_type": "execute_result"
    }
   ],
   "source": [
    "spark"
   ]
  },
  {
   "cell_type": "code",
   "execution_count": 4,
   "metadata": {},
   "outputs": [],
   "source": [
    "# Loading data \n",
    "locations = spark.read.csv(\"../data/locations.csv\", header=True, inferSchema=True)\n",
    "transactions = spark.read.csv(\"../data/rental_transactions.csv\", header=True, inferSchema=True) \n",
    "users = spark.read.csv(\"../data/users.csv\", header=True, inferSchema=True)\n",
    "vehicles = spark.read.csv(\"../data/vehicles.csv\", header=True, inferSchema=True)"
   ]
  },
  {
   "cell_type": "code",
   "execution_count": 5,
   "metadata": {},
   "outputs": [
    {
     "name": "stdout",
     "output_type": "stream",
     "text": [
      "+-----------+--------------------+--------------------+---------+-----+--------+-----------+----------+\n",
      "|location_id|       location_name|             address|     city|state|zip_code|   latitude| longitude|\n",
      "+-----------+--------------------+--------------------+---------+-----+--------+-----------+----------+\n",
      "|       2702|Jackson, Velazque...|3140 Heath Radial...|  Modesto|   CA|   94540|   86.25802| -169.2448|\n",
      "|       4380|            Bean LLC|51144 Patrick Isl...|  Fontana|   CA|   92188|-74.4558925|-42.279882|\n",
      "|       7709|     Gilbert-Simmons|    4738 Lewis Locks|Roseville|   CA|   91032|-65.4309305|-64.763489|\n",
      "|       8607|    Coleman-Robinson|  324 Robin Causeway|  Modesto|   CA|   93714| -64.281076|-77.669631|\n",
      "|       5499|        Deleon Group|    51725 Evans View|Roseville|   CA|   91849| 18.4951575|-154.76578|\n",
      "+-----------+--------------------+--------------------+---------+-----+--------+-----------+----------+\n",
      "only showing top 5 rows\n",
      "\n"
     ]
    }
   ],
   "source": [
    "locations.show(5)"
   ]
  },
  {
   "cell_type": "code",
   "execution_count": 6,
   "metadata": {},
   "outputs": [
    {
     "name": "stdout",
     "output_type": "stream",
     "text": [
      "+----------+----------+----------+-------------------+-------------------+---------------+----------------+------------+\n",
      "| rental_id|   user_id|vehicle_id|  rental_start_time|    rental_end_time|pickup_location|dropoff_location|total_amount|\n",
      "+----------+----------+----------+-------------------+-------------------+---------------+----------------+------------+\n",
      "|b139d8e1b2|320be8068b|0d52304987|2024-02-28 08:05:00|2024-03-01 05:05:00|           1497|            6785|       450.0|\n",
      "|7afd60f6d3|320be8068b|975d72985c|2024-01-07 20:16:00|2024-01-09 21:16:00|           5345|            2608|      2450.0|\n",
      "|733a9361bc|8f31b734a6|0d9f0f0fb9|2024-01-07 09:36:00|2024-01-07 17:36:00|           2546|            5442|        80.0|\n",
      "|6e546b69dd|8f31b734a6|967fdab45e|2024-01-05 11:30:00|2024-01-07 04:30:00|           8147|            4380|      2050.0|\n",
      "|acc192b64a|8f31b734a6|32d58ea4b7|2024-03-06 18:19:00|2024-03-09 14:19:00|           6290|            8932|      1360.0|\n",
      "+----------+----------+----------+-------------------+-------------------+---------------+----------------+------------+\n",
      "only showing top 5 rows\n",
      "\n"
     ]
    }
   ],
   "source": [
    "transactions.show(5)"
   ]
  },
  {
   "cell_type": "code",
   "execution_count": 7,
   "metadata": {},
   "outputs": [
    {
     "name": "stdout",
     "output_type": "stream",
     "text": [
      "+----------+----------+---------+--------------------+------------------+---------------------+---------------------+-------------+---------+\n",
      "|   user_id|first_name|last_name|               email|      phone_number|driver_license_number|driver_license_expiry|creation_date|is_active|\n",
      "+----------+----------+---------+--------------------+------------------+---------------------+---------------------+-------------+---------+\n",
      "|26d08ab733|      Lisa|   Parker|lisa.parker@gmail...|334.271.2972x60554|             MO028963|           2033-06-21|   2024-05-26|        1|\n",
      "|0a0430e6f9|  Courtney|   Martin|courtney.martin@y...|  826-262-0518x252|             VW966518|           2028-09-28|   2024-05-22|        0|\n",
      "|eb5d10cccd|    Andrew|  Mcclain|andrew.mcclain@ho...|   +1-467-858-1702|             WL839491|           2028-09-01|   2024-01-29|        1|\n",
      "|2a59127ee0|   Michael|   Hoover|michael.hoover@ya...|  001-220-342-6250|             UI603163|           2028-11-29|   2024-03-22|        1|\n",
      "|e3a46a2a11|     Molly|   Brooks|molly.brooks@yaho...|   +1-595-498-7645|             BJ158232|           2025-01-24|   2024-03-02|        1|\n",
      "+----------+----------+---------+--------------------+------------------+---------------------+---------------------+-------------+---------+\n",
      "only showing top 5 rows\n",
      "\n"
     ]
    }
   ],
   "source": [
    "users.show(5)"
   ]
  },
  {
   "cell_type": "code",
   "execution_count": 8,
   "metadata": {},
   "outputs": [
    {
     "name": "stdout",
     "output_type": "stream",
     "text": [
      "+------+----------------------+--------------------+----------------+---------------+---------------------+------------------+------------+---------------------+--------------------+----------+---------------------+---------+------------+\n",
      "|active|vehicle_license_number|   registration_name|    license_type|expiration_date|permit_license_number|certification_date|vehicle_year|base_telephone_number|        base_address|vehicle_id|last_update_timestamp|    brand|vehicle_type|\n",
      "+------+----------------------+--------------------+----------------+---------------+---------------------+------------------+------------+---------------------+--------------------+----------+---------------------+---------+------------+\n",
      "|     1|               5818886|CITY,LIVERY,LEASI...|FOR HIRE VEHICLE|     27-09-2025|             6EPABCVK|        2018-01-09|        2018|        (646)780-0129|1515 THIRD STREET...|67789f742d|  04-06-2024 13:25:00|  Ferrari|    high_end|\n",
      "|     1|               5520432|    FERNANDEZ,JOSE,A|FOR HIRE VEHICLE|     08-01-2026|             IC0VQ8EC|        2015-01-21|        2015|        (646)780-0129|1515 THIRD STREET...|70e8c42e4f|  04-06-2024 13:25:00|      BMW|     premium|\n",
      "|     1|               5790608| RIGO,LIMO-AUTO,CORP|FOR HIRE VEHICLE|     19-06-2025|             AGTGT62I|        2020-03-31|        2020|        (646)780-0129|1515 THIRD STREET...|aa2522d199|  04-06-2024 13:25:00|   Toyota|       basic|\n",
      "|     1|               6045671|    NARZIEV,LAZIZJON|FOR HIRE VEHICLE|     22-11-2025|             OO9QLG6E|        2022-11-09|        2022|        (646)780-0129|1515 THIRD STREET...|0984531ace|  04-06-2024 13:25:00|Chevrolet|       basic|\n",
      "|     1|               6022074|         YAQOOB,SAAD|FOR HIRE VEHICLE|     05-04-2025|             3U109JZC|        2018-11-29|        2018|        (646)780-0129|1515 THIRD STREET...|1ee2538be7|  04-06-2024 13:25:00|    Tesla|    high_end|\n",
      "+------+----------------------+--------------------+----------------+---------------+---------------------+------------------+------------+---------------------+--------------------+----------+---------------------+---------+------------+\n",
      "only showing top 5 rows\n",
      "\n"
     ]
    }
   ],
   "source": [
    "vehicles.show(5)"
   ]
  },
  {
   "cell_type": "markdown",
   "metadata": {},
   "source": [
    "### Spark Job 1"
   ]
  },
  {
   "cell_type": "code",
   "execution_count": 9,
   "metadata": {},
   "outputs": [
    {
     "name": "stdout",
     "output_type": "stream",
     "text": [
      "+---------------+-------------+\n",
      "|pickup_location|total_revenue|\n",
      "+---------------+-------------+\n",
      "|           1959|      58090.0|\n",
      "|           8928|      43470.0|\n",
      "|           1507|      57120.0|\n",
      "|           8932|      53890.0|\n",
      "|           9182|      63900.0|\n",
      "+---------------+-------------+\n",
      "only showing top 5 rows\n",
      "\n"
     ]
    }
   ],
   "source": [
    "#  Revenue per Location\n",
    "revenue_per_location_df = transactions.groupBy(\"pickup_location\").agg(F.sum(\"total_amount\").alias(\"total_revenue\"))\n",
    "revenue_per_location_df.show(5)"
   ]
  },
  {
   "cell_type": "code",
   "execution_count": 10,
   "metadata": {},
   "outputs": [
    {
     "name": "stdout",
     "output_type": "stream",
     "text": [
      "+---------------+------------------+\n",
      "|pickup_location|total_transactions|\n",
      "+---------------+------------------+\n",
      "|           1959|                69|\n",
      "|           8928|                66|\n",
      "|           1507|                77|\n",
      "|           8932|                65|\n",
      "|           9182|                75|\n",
      "+---------------+------------------+\n",
      "only showing top 5 rows\n",
      "\n"
     ]
    }
   ],
   "source": [
    "# Total Transactions per Location\n",
    "transactions_per_location_df = transactions.groupBy(\"pickup_location\").agg(F.count(\"rental_id\").alias(\"total_transactions\"))\n",
    "transactions_per_location_df.show(5)"
   ]
  },
  {
   "cell_type": "code",
   "execution_count": 11,
   "metadata": {},
   "outputs": [
    {
     "name": "stdout",
     "output_type": "stream",
     "text": [
      "+---------------+-----------------+---------------+---------------+\n",
      "|pickup_location|  avg_transaction|max_transaction|min_transaction|\n",
      "+---------------+-----------------+---------------+---------------+\n",
      "|           1959|841.8840579710145|         3600.0|           60.0|\n",
      "|           8928|658.6363636363636|         3200.0|           30.0|\n",
      "|           1507|741.8181818181819|         3250.0|           40.0|\n",
      "|           8932|829.0769230769231|         3500.0|           40.0|\n",
      "|           9182|            852.0|         3450.0|           20.0|\n",
      "+---------------+-----------------+---------------+---------------+\n",
      "only showing top 5 rows\n",
      "\n"
     ]
    }
   ],
   "source": [
    "# Average, Max, and Min Transaction Amounts\n",
    "transaction_amounts_df = transactions.groupBy(\"pickup_location\").agg(\n",
    "    F.avg(\"total_amount\").alias(\"avg_transaction\"),\n",
    "    F.max(\"total_amount\").alias(\"max_transaction\"),\n",
    "    F.min(\"total_amount\").alias(\"min_transaction\")\n",
    ")\n",
    "transaction_amounts_df.show(5)"
   ]
  },
  {
   "cell_type": "code",
   "execution_count": 12,
   "metadata": {},
   "outputs": [
    {
     "name": "stdout",
     "output_type": "stream",
     "text": [
      "+---------------+---------------+\n",
      "|pickup_location|unique_vehicles|\n",
      "+---------------+---------------+\n",
      "|           1959|             69|\n",
      "|           8928|             66|\n",
      "|           9182|             75|\n",
      "|           8932|             65|\n",
      "|           1507|             77|\n",
      "+---------------+---------------+\n",
      "only showing top 5 rows\n",
      "\n"
     ]
    }
   ],
   "source": [
    "# Unique Vehicles Used at Each Location\n",
    "unique_vehicles_per_location_df = transactions.groupBy(\"pickup_location\").agg(F.countDistinct(\"vehicle_id\").alias(\"unique_vehicles\"))\n",
    "unique_vehicles_per_location_df.show(5)"
   ]
  },
  {
   "cell_type": "code",
   "execution_count": 13,
   "metadata": {},
   "outputs": [
    {
     "name": "stdout",
     "output_type": "stream",
     "text": [
      "+---------------+-------------------------+---------------------------------+\n",
      "|pickup_location|total_revenue_by_location|total_rental_duration_by_location|\n",
      "+---------------+-------------------------+---------------------------------+\n",
      "|           1959|                  58090.0|                           2770.0|\n",
      "|           8928|                  43470.0|                           2230.0|\n",
      "|           1507|                  57120.0|                           2897.0|\n",
      "|           8932|                  53890.0|                           2318.0|\n",
      "|           9182|                  63900.0|                           2626.0|\n",
      "+---------------+-------------------------+---------------------------------+\n",
      "only showing top 5 rows\n",
      "\n"
     ]
    }
   ],
   "source": [
    "# Rental Duration and Revenue by Location\n",
    "# Calculate rental duration in hours and aggregate revenue and duration by location\n",
    "rental_duration_revenue_by_location_df = transactions.withColumn(\n",
    "    \"rental_duration_hours\", \n",
    "    (F.col(\"rental_end_time\").cast(\"long\") - F.col(\"rental_start_time\").cast(\"long\")) / 3600\n",
    ").groupBy(\"pickup_location\").agg(\n",
    "    F.sum(\"total_amount\").alias(\"total_revenue_by_location\"),\n",
    "    F.sum(\"rental_duration_hours\").alias(\"total_rental_duration_by_location\")\n",
    ")\n",
    "rental_duration_revenue_by_location_df.show(5)"
   ]
  },
  {
   "cell_type": "code",
   "execution_count": 14,
   "metadata": {},
   "outputs": [],
   "source": [
    "# Join all KPIs on location (and vehicle_type where applicable)\n",
    "\n",
    "final_kpi_df = revenue_per_location_df \\\n",
    "        .join(transactions_per_location_df, \"pickup_location\", \"left\") \\\n",
    "        .join(transaction_amounts_df, \"pickup_location\", \"left\") \\\n",
    "        .join(unique_vehicles_per_location_df, \"pickup_location\", \"left\") \\\n",
    "        .join(rental_duration_revenue_by_location_df, \"pickup_location\", \"left\")\n",
    "\n"
   ]
  },
  {
   "cell_type": "code",
   "execution_count": 15,
   "metadata": {},
   "outputs": [
    {
     "name": "stdout",
     "output_type": "stream",
     "text": [
      "+---------------+-------------+------------------+-----------------+---------------+---------------+---------------+-------------------------+---------------------------------+\n",
      "|pickup_location|total_revenue|total_transactions|avg_transaction  |max_transaction|min_transaction|unique_vehicles|total_revenue_by_location|total_rental_duration_by_location|\n",
      "+---------------+-------------+------------------+-----------------+---------------+---------------+---------------+-------------------------+---------------------------------+\n",
      "|1959           |58090.0      |69                |841.8840579710145|3600.0         |60.0           |69             |58090.0                  |2770.0                           |\n",
      "|8928           |43470.0      |66                |658.6363636363636|3200.0         |30.0           |66             |43470.0                  |2230.0                           |\n",
      "|1507           |57120.0      |77                |741.8181818181819|3250.0         |40.0           |77             |57120.0                  |2897.0                           |\n",
      "|8932           |53890.0      |65                |829.0769230769231|3500.0         |40.0           |65             |53890.0                  |2318.0                           |\n",
      "|9182           |63900.0      |75                |852.0            |3450.0         |20.0           |75             |63900.0                  |2626.0                           |\n",
      "|4219           |36170.0      |56                |645.8928571428571|3050.0         |20.0           |56             |36170.0                  |1846.0                           |\n",
      "|5345           |64980.0      |81                |802.2222222222222|3400.0         |10.0           |81             |64980.0                  |2642.0                           |\n",
      "|5984           |65260.0      |84                |776.9047619047619|3350.0         |10.0           |84             |65260.0                  |2760.0                           |\n",
      "|9558           |47840.0      |60                |797.3333333333334|3250.0         |30.0           |59             |47840.0                  |2191.0                           |\n",
      "|8779           |57000.0      |76                |750.0            |3500.0         |30.0           |76             |57000.0                  |2957.0                           |\n",
      "+---------------+-------------+------------------+-----------------+---------------+---------------+---------------+-------------------------+---------------------------------+\n",
      "only showing top 10 rows\n",
      "\n"
     ]
    }
   ],
   "source": [
    "final_kpi_df.show(10, truncate=False)"
   ]
  },
  {
   "cell_type": "markdown",
   "metadata": {},
   "source": [
    "### Spark Job 2"
   ]
  },
  {
   "cell_type": "code",
   "execution_count": 16,
   "metadata": {},
   "outputs": [],
   "source": [
    "# Convert rental_start_time to date for daily aggregations\n",
    "transactions = transactions.withColumn(\"rental_date\", F.date_format(F.col(\"rental_start_time\"), \"yyyy-MM-dd\"))"
   ]
  },
  {
   "cell_type": "code",
   "execution_count": 50,
   "metadata": {},
   "outputs": [
    {
     "name": "stdout",
     "output_type": "stream",
     "text": [
      "+----------+-----------+------------------+\n",
      "|   user_id|rental_date|total_transactions|\n",
      "+----------+-----------+------------------+\n",
      "|9bba61f5c7| 2024-04-27|                 1|\n",
      "|b0933c01cc| 2024-01-22|                 1|\n",
      "|f844b668c5| 2024-02-28|                 1|\n",
      "|86e659d2b0| 2024-03-01|                 1|\n",
      "|074822837e| 2024-02-18|                 1|\n",
      "+----------+-----------+------------------+\n",
      "only showing top 5 rows\n",
      "\n"
     ]
    }
   ],
   "source": [
    "# Compute Total Transactions per Day\n",
    "transactions_per_day = transactions.groupBy(\"user_id\",\"rental_date\").agg(F.count(\"rental_id\").alias(\"total_transactions\"))\n",
    "transactions_per_day.show(5)"
   ]
  },
  {
   "cell_type": "code",
   "execution_count": 53,
   "metadata": {},
   "outputs": [
    {
     "name": "stdout",
     "output_type": "stream",
     "text": [
      "+-----------+-------------+\n",
      "|rental_date|total_revenue|\n",
      "+-----------+-------------+\n",
      "| 2024-01-19|      93910.0|\n",
      "| 2024-04-03|     101350.0|\n",
      "| 2024-02-28|     104200.0|\n",
      "| 2024-02-08|     106030.0|\n",
      "| 2024-01-13|      96870.0|\n",
      "+-----------+-------------+\n",
      "only showing top 5 rows\n",
      "\n"
     ]
    }
   ],
   "source": [
    "# Compute Revenue per Day\n",
    "revenue_per_day = transactions.groupBy(\"rental_date\").agg(F.sum(\"total_amount\").alias(\"total_revenue\"))\n",
    "revenue_per_day.show(5)"
   ]
  },
  {
   "cell_type": "code",
   "execution_count": 19,
   "metadata": {},
   "outputs": [
    {
     "name": "stdout",
     "output_type": "stream",
     "text": [
      "+----------+-----------+-------------------+\n",
      "|   user_id|total_spent|avg_rental_duration|\n",
      "+----------+-----------+-------------------+\n",
      "|5144945047|     1640.0|           172800.0|\n",
      "|0e672a709e|     1280.0|           144000.0|\n",
      "|a39cfd7ab5|      510.0|           183600.0|\n",
      "|010ad799a1|     1440.0|           259200.0|\n",
      "|b31a334b34|     1470.0|           172800.0|\n",
      "+----------+-----------+-------------------+\n",
      "only showing top 5 rows\n",
      "\n"
     ]
    }
   ],
   "source": [
    "# Compute User-specific Spending and Rental Duration Metrics\n",
    "user_metrics = transactions.groupBy(\"user_id\").agg(\n",
    "    F.sum(\"total_amount\").alias(\"total_spent\"),\n",
    "    F.avg(F.col(\"rental_end_time\").cast(\"long\") - F.col(\"rental_start_time\").cast(\"long\")).alias(\"avg_rental_duration\")\n",
    ")\n",
    "user_metrics.show(5)"
   ]
  },
  {
   "cell_type": "code",
   "execution_count": 33,
   "metadata": {},
   "outputs": [
    {
     "name": "stdout",
     "output_type": "stream",
     "text": [
      "+----------+----------------------+----------------------+-----------------------+\n",
      "|   user_id|max_transaction_amount|min_transaction_amount|avg_transactions_amount|\n",
      "+----------+----------------------+----------------------+-----------------------+\n",
      "|5144945047|                 690.0|                 400.0|      546.6666666666666|\n",
      "|0e672a709e|                 680.0|                 600.0|                  640.0|\n",
      "|a39cfd7ab5|                 510.0|                 510.0|                  510.0|\n",
      "|010ad799a1|                1440.0|                1440.0|                 1440.0|\n",
      "|b31a334b34|                1020.0|                 450.0|                  735.0|\n",
      "+----------+----------------------+----------------------+-----------------------+\n",
      "only showing top 5 rows\n",
      "\n"
     ]
    }
   ],
   "source": [
    "# Compute Maximum and Minimum Transaction Amounts\n",
    "transaction_amounts = transactions.groupby('user_id').agg(\n",
    "    F.max(\"total_amount\").alias(\"max_transaction_amount\"),\n",
    "    F.min(\"total_amount\").alias(\"min_transaction_amount\"),\n",
    "    F.avg(\"total_amount\").alias(\"avg_transactions_amount\")\n",
    ")\n",
    "transaction_amounts.show(5)"
   ]
  },
  {
   "cell_type": "code",
   "execution_count": 55,
   "metadata": {},
   "outputs": [],
   "source": [
    "kpi_df = transactions_per_day \\\n",
    "    .join(revenue_per_day, \"rental_date\", \"inner\") \\\n",
    "    .join(transaction_amounts, on=\"user_id\") \\\n",
    "    .join(user_metrics, on=\"user_id\")"
   ]
  },
  {
   "cell_type": "code",
   "execution_count": 56,
   "metadata": {},
   "outputs": [
    {
     "name": "stdout",
     "output_type": "stream",
     "text": [
      "+----------+-----------+------------------+-------------+----------------------+----------------------+-----------------------+-----------+-------------------+\n",
      "|   user_id|rental_date|total_transactions|total_revenue|max_transaction_amount|min_transaction_amount|avg_transactions_amount|total_spent|avg_rental_duration|\n",
      "+----------+-----------+------------------+-------------+----------------------+----------------------+-----------------------+-----------+-------------------+\n",
      "|9bba61f5c7| 2024-04-27|                 1|     131680.0|                1320.0|                 410.0|      806.6666666666666|     2420.0|           211200.0|\n",
      "|b0933c01cc| 2024-01-22|                 1|     117820.0|                 710.0|                  60.0|      303.3333333333333|      910.0|           105600.0|\n",
      "|f844b668c5| 2024-02-28|                 1|     104200.0|                 300.0|                 120.0|     236.66666666666666|      710.0|            67200.0|\n",
      "|86e659d2b0| 2024-03-01|                 1|     115060.0|                 310.0|                 160.0|                  240.0|      720.0|            86400.0|\n",
      "|074822837e| 2024-02-18|                 1|     118710.0|                1180.0|                 420.0|                  800.0|     1600.0|           144000.0|\n",
      "|8f38004f8a| 2024-03-06|                 1|     106150.0|                1750.0|                 560.0|      986.6666666666666|     2960.0|           187200.0|\n",
      "|5370e76eb3| 2024-01-03|                 1|     117560.0|                2650.0|                 560.0|                 1605.0|     3210.0|           145800.0|\n",
      "|35e1e33b71| 2024-04-20|                 1|     106960.0|                1360.0|                1360.0|                 1360.0|     1360.0|           244800.0|\n",
      "|e79cd9fe47| 2024-02-07|                 1|      93340.0|                 440.0|                  20.0|     233.33333333333334|      700.0|            42000.0|\n",
      "|dc832ff586| 2024-03-29|                 1|      85270.0|                1020.0|                1020.0|                 1020.0|     1020.0|           183600.0|\n",
      "|a88e5b2c3e| 2024-02-20|                 1|      92140.0|                 850.0|                 580.0|                  715.0|     1430.0|            82800.0|\n",
      "|ba790eb6b8| 2024-04-23|                 1|     130490.0|                1360.0|                 660.0|                 1010.0|     2020.0|           241200.0|\n",
      "|96e6ed4010| 2024-05-26|                 1|     126460.0|                3050.0|                1100.0|     1783.3333333333333|     5350.0|           211200.0|\n",
      "|cfd68ee9d6| 2024-01-29|                 1|     119160.0|                1180.0|                1180.0|                 1180.0|     1180.0|           212400.0|\n",
      "|38927e9c0a| 2024-01-14|                 1|      91030.0|                 560.0|                 120.0|                  340.0|      680.0|            61200.0|\n",
      "+----------+-----------+------------------+-------------+----------------------+----------------------+-----------------------+-----------+-------------------+\n",
      "only showing top 15 rows\n",
      "\n"
     ]
    }
   ],
   "source": [
    "kpi_df.show(15)"
   ]
  },
  {
   "cell_type": "code",
   "execution_count": 39,
   "metadata": {},
   "outputs": [
    {
     "ename": "AnalysisException",
     "evalue": "[AMBIGUOUS_REFERENCE] Reference `user_id` is ambiguous, could be: [`user_id`, `user_id`].",
     "output_type": "error",
     "traceback": [
      "\u001b[1;31m---------------------------------------------------------------------------\u001b[0m",
      "\u001b[1;31mAnalysisException\u001b[0m                         Traceback (most recent call last)",
      "Cell \u001b[1;32mIn[39], line 1\u001b[0m\n\u001b[1;32m----> 1\u001b[0m \u001b[43mkpi_df\u001b[49m\u001b[38;5;241;43m.\u001b[39;49m\u001b[43mselect\u001b[49m\u001b[43m(\u001b[49m\n\u001b[0;32m      2\u001b[0m \u001b[43m    \u001b[49m\u001b[43mF\u001b[49m\u001b[38;5;241;43m.\u001b[39;49m\u001b[43mcountDistinct\u001b[49m\u001b[43m(\u001b[49m\u001b[38;5;124;43m\"\u001b[39;49m\u001b[38;5;124;43mrental_date\u001b[39;49m\u001b[38;5;124;43m\"\u001b[39;49m\u001b[43m)\u001b[49m\u001b[38;5;241;43m.\u001b[39;49m\u001b[43malias\u001b[49m\u001b[43m(\u001b[49m\u001b[38;5;124;43m\"\u001b[39;49m\u001b[38;5;124;43mdistinct_rental_dates\u001b[39;49m\u001b[38;5;124;43m\"\u001b[39;49m\u001b[43m)\u001b[49m\u001b[43m,\u001b[49m\n\u001b[0;32m      3\u001b[0m \u001b[43m    \u001b[49m\u001b[43mF\u001b[49m\u001b[38;5;241;43m.\u001b[39;49m\u001b[43mcountDistinct\u001b[49m\u001b[43m(\u001b[49m\u001b[38;5;124;43m\"\u001b[39;49m\u001b[38;5;124;43muser_id\u001b[39;49m\u001b[38;5;124;43m\"\u001b[39;49m\u001b[43m)\u001b[49m\u001b[38;5;241;43m.\u001b[39;49m\u001b[43malias\u001b[49m\u001b[43m(\u001b[49m\u001b[38;5;124;43m\"\u001b[39;49m\u001b[38;5;124;43mdistinct_user_ids\u001b[39;49m\u001b[38;5;124;43m\"\u001b[39;49m\u001b[43m)\u001b[49m\n\u001b[0;32m      4\u001b[0m \u001b[43m)\u001b[49m\u001b[38;5;241m.\u001b[39mshow()\n",
      "File \u001b[1;32mc:\\Users\\HeskeyAmoakoFordjour\\anaconda3\\envs\\pyspark\\Lib\\site-packages\\pyspark\\sql\\dataframe.py:3229\u001b[0m, in \u001b[0;36mDataFrame.select\u001b[1;34m(self, *cols)\u001b[0m\n\u001b[0;32m   3184\u001b[0m \u001b[38;5;28;01mdef\u001b[39;00m \u001b[38;5;21mselect\u001b[39m(\u001b[38;5;28mself\u001b[39m, \u001b[38;5;241m*\u001b[39mcols: \u001b[38;5;124m\"\u001b[39m\u001b[38;5;124mColumnOrName\u001b[39m\u001b[38;5;124m\"\u001b[39m) \u001b[38;5;241m-\u001b[39m\u001b[38;5;241m>\u001b[39m \u001b[38;5;124m\"\u001b[39m\u001b[38;5;124mDataFrame\u001b[39m\u001b[38;5;124m\"\u001b[39m:  \u001b[38;5;66;03m# type: ignore[misc]\u001b[39;00m\n\u001b[0;32m   3185\u001b[0m \u001b[38;5;250m    \u001b[39m\u001b[38;5;124;03m\"\"\"Projects a set of expressions and returns a new :class:`DataFrame`.\u001b[39;00m\n\u001b[0;32m   3186\u001b[0m \n\u001b[0;32m   3187\u001b[0m \u001b[38;5;124;03m    .. versionadded:: 1.3.0\u001b[39;00m\n\u001b[1;32m   (...)\u001b[0m\n\u001b[0;32m   3227\u001b[0m \u001b[38;5;124;03m    +-----+---+\u001b[39;00m\n\u001b[0;32m   3228\u001b[0m \u001b[38;5;124;03m    \"\"\"\u001b[39;00m\n\u001b[1;32m-> 3229\u001b[0m     jdf \u001b[38;5;241m=\u001b[39m \u001b[38;5;28;43mself\u001b[39;49m\u001b[38;5;241;43m.\u001b[39;49m\u001b[43m_jdf\u001b[49m\u001b[38;5;241;43m.\u001b[39;49m\u001b[43mselect\u001b[49m\u001b[43m(\u001b[49m\u001b[38;5;28;43mself\u001b[39;49m\u001b[38;5;241;43m.\u001b[39;49m\u001b[43m_jcols\u001b[49m\u001b[43m(\u001b[49m\u001b[38;5;241;43m*\u001b[39;49m\u001b[43mcols\u001b[49m\u001b[43m)\u001b[49m\u001b[43m)\u001b[49m\n\u001b[0;32m   3230\u001b[0m     \u001b[38;5;28;01mreturn\u001b[39;00m DataFrame(jdf, \u001b[38;5;28mself\u001b[39m\u001b[38;5;241m.\u001b[39msparkSession)\n",
      "File \u001b[1;32mc:\\Users\\HeskeyAmoakoFordjour\\anaconda3\\envs\\pyspark\\Lib\\site-packages\\py4j\\java_gateway.py:1322\u001b[0m, in \u001b[0;36mJavaMember.__call__\u001b[1;34m(self, *args)\u001b[0m\n\u001b[0;32m   1316\u001b[0m command \u001b[38;5;241m=\u001b[39m proto\u001b[38;5;241m.\u001b[39mCALL_COMMAND_NAME \u001b[38;5;241m+\u001b[39m\\\n\u001b[0;32m   1317\u001b[0m     \u001b[38;5;28mself\u001b[39m\u001b[38;5;241m.\u001b[39mcommand_header \u001b[38;5;241m+\u001b[39m\\\n\u001b[0;32m   1318\u001b[0m     args_command \u001b[38;5;241m+\u001b[39m\\\n\u001b[0;32m   1319\u001b[0m     proto\u001b[38;5;241m.\u001b[39mEND_COMMAND_PART\n\u001b[0;32m   1321\u001b[0m answer \u001b[38;5;241m=\u001b[39m \u001b[38;5;28mself\u001b[39m\u001b[38;5;241m.\u001b[39mgateway_client\u001b[38;5;241m.\u001b[39msend_command(command)\n\u001b[1;32m-> 1322\u001b[0m return_value \u001b[38;5;241m=\u001b[39m \u001b[43mget_return_value\u001b[49m\u001b[43m(\u001b[49m\n\u001b[0;32m   1323\u001b[0m \u001b[43m    \u001b[49m\u001b[43manswer\u001b[49m\u001b[43m,\u001b[49m\u001b[43m \u001b[49m\u001b[38;5;28;43mself\u001b[39;49m\u001b[38;5;241;43m.\u001b[39;49m\u001b[43mgateway_client\u001b[49m\u001b[43m,\u001b[49m\u001b[43m \u001b[49m\u001b[38;5;28;43mself\u001b[39;49m\u001b[38;5;241;43m.\u001b[39;49m\u001b[43mtarget_id\u001b[49m\u001b[43m,\u001b[49m\u001b[43m \u001b[49m\u001b[38;5;28;43mself\u001b[39;49m\u001b[38;5;241;43m.\u001b[39;49m\u001b[43mname\u001b[49m\u001b[43m)\u001b[49m\n\u001b[0;32m   1325\u001b[0m \u001b[38;5;28;01mfor\u001b[39;00m temp_arg \u001b[38;5;129;01min\u001b[39;00m temp_args:\n\u001b[0;32m   1326\u001b[0m     \u001b[38;5;28;01mif\u001b[39;00m \u001b[38;5;28mhasattr\u001b[39m(temp_arg, \u001b[38;5;124m\"\u001b[39m\u001b[38;5;124m_detach\u001b[39m\u001b[38;5;124m\"\u001b[39m):\n",
      "File \u001b[1;32mc:\\Users\\HeskeyAmoakoFordjour\\anaconda3\\envs\\pyspark\\Lib\\site-packages\\pyspark\\errors\\exceptions\\captured.py:185\u001b[0m, in \u001b[0;36mcapture_sql_exception.<locals>.deco\u001b[1;34m(*a, **kw)\u001b[0m\n\u001b[0;32m    181\u001b[0m converted \u001b[38;5;241m=\u001b[39m convert_exception(e\u001b[38;5;241m.\u001b[39mjava_exception)\n\u001b[0;32m    182\u001b[0m \u001b[38;5;28;01mif\u001b[39;00m \u001b[38;5;129;01mnot\u001b[39;00m \u001b[38;5;28misinstance\u001b[39m(converted, UnknownException):\n\u001b[0;32m    183\u001b[0m     \u001b[38;5;66;03m# Hide where the exception came from that shows a non-Pythonic\u001b[39;00m\n\u001b[0;32m    184\u001b[0m     \u001b[38;5;66;03m# JVM exception message.\u001b[39;00m\n\u001b[1;32m--> 185\u001b[0m     \u001b[38;5;28;01mraise\u001b[39;00m converted \u001b[38;5;28;01mfrom\u001b[39;00m \u001b[38;5;28;01mNone\u001b[39;00m\n\u001b[0;32m    186\u001b[0m \u001b[38;5;28;01melse\u001b[39;00m:\n\u001b[0;32m    187\u001b[0m     \u001b[38;5;28;01mraise\u001b[39;00m\n",
      "\u001b[1;31mAnalysisException\u001b[0m: [AMBIGUOUS_REFERENCE] Reference `user_id` is ambiguous, could be: [`user_id`, `user_id`]."
     ]
    }
   ],
   "source": [
    "kpi_df.select(\n",
    "    F.countDistinct(\"rental_date\").alias(\"distinct_rental_dates\"),\n",
    "    F.countDistinct(\"user_id\").alias(\"distinct_user_ids\")\n",
    ").show()"
   ]
  }
 ],
 "metadata": {
  "kernelspec": {
   "display_name": "pyspark",
   "language": "python",
   "name": "python3"
  },
  "language_info": {
   "codemirror_mode": {
    "name": "ipython",
    "version": 3
   },
   "file_extension": ".py",
   "mimetype": "text/x-python",
   "name": "python",
   "nbconvert_exporter": "python",
   "pygments_lexer": "ipython3",
   "version": "3.13.0"
  }
 },
 "nbformat": 4,
 "nbformat_minor": 2
}
