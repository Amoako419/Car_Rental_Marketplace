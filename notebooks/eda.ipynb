{
 "cells": [
  {
   "cell_type": "code",
   "execution_count": 1,
   "metadata": {},
   "outputs": [],
   "source": [
    "from pyspark.sql import SparkSession\n",
    "from pyspark.sql import functions as F"
   ]
  },
  {
   "cell_type": "code",
   "execution_count": 2,
   "metadata": {},
   "outputs": [],
   "source": [
    "spark = SparkSession.builder.appName(\"EDA\").getOrCreate()"
   ]
  },
  {
   "cell_type": "code",
   "execution_count": 3,
   "metadata": {},
   "outputs": [
    {
     "data": {
      "text/html": [
       "\n",
       "            <div>\n",
       "                <p><b>SparkSession - in-memory</b></p>\n",
       "                \n",
       "        <div>\n",
       "            <p><b>SparkContext</b></p>\n",
       "\n",
       "            <p><a href=\"http://AMALITECH-PC-11075:4040\">Spark UI</a></p>\n",
       "\n",
       "            <dl>\n",
       "              <dt>Version</dt>\n",
       "                <dd><code>v3.5.3</code></dd>\n",
       "              <dt>Master</dt>\n",
       "                <dd><code>local[*]</code></dd>\n",
       "              <dt>AppName</dt>\n",
       "                <dd><code>EDA</code></dd>\n",
       "            </dl>\n",
       "        </div>\n",
       "        \n",
       "            </div>\n",
       "        "
      ],
      "text/plain": [
       "<pyspark.sql.session.SparkSession at 0x213a9a6d7f0>"
      ]
     },
     "execution_count": 3,
     "metadata": {},
     "output_type": "execute_result"
    }
   ],
   "source": [
    "spark"
   ]
  },
  {
   "cell_type": "code",
   "execution_count": 6,
   "metadata": {},
   "outputs": [],
   "source": [
    "# Loading data \n",
    "locations = spark.read.csv(\"../data/locations.csv\", header=True, inferSchema=True)\n",
    "transactions = spark.read.csv(\"../data/rental_transactions.csv\", header=True, inferSchema=True) \n",
    "users = spark.read.csv(\"../data/users.csv\", header=True, inferSchema=True)\n",
    "vehicles = spark.read.csv(\"../data/vehicles.csv\", header=True, inferSchema=True)"
   ]
  },
  {
   "cell_type": "code",
   "execution_count": 7,
   "metadata": {},
   "outputs": [
    {
     "name": "stdout",
     "output_type": "stream",
     "text": [
      "+-----------+--------------------+--------------------+---------+-----+--------+-----------+----------+\n",
      "|location_id|       location_name|             address|     city|state|zip_code|   latitude| longitude|\n",
      "+-----------+--------------------+--------------------+---------+-----+--------+-----------+----------+\n",
      "|       2702|Jackson, Velazque...|3140 Heath Radial...|  Modesto|   CA|   94540|   86.25802| -169.2448|\n",
      "|       4380|            Bean LLC|51144 Patrick Isl...|  Fontana|   CA|   92188|-74.4558925|-42.279882|\n",
      "|       7709|     Gilbert-Simmons|    4738 Lewis Locks|Roseville|   CA|   91032|-65.4309305|-64.763489|\n",
      "|       8607|    Coleman-Robinson|  324 Robin Causeway|  Modesto|   CA|   93714| -64.281076|-77.669631|\n",
      "|       5499|        Deleon Group|    51725 Evans View|Roseville|   CA|   91849| 18.4951575|-154.76578|\n",
      "+-----------+--------------------+--------------------+---------+-----+--------+-----------+----------+\n",
      "only showing top 5 rows\n",
      "\n"
     ]
    }
   ],
   "source": [
    "locations.show(5)"
   ]
  },
  {
   "cell_type": "code",
   "execution_count": 8,
   "metadata": {},
   "outputs": [
    {
     "name": "stdout",
     "output_type": "stream",
     "text": [
      "+----------+----------+----------+-------------------+-------------------+---------------+----------------+------------+\n",
      "| rental_id|   user_id|vehicle_id|  rental_start_time|    rental_end_time|pickup_location|dropoff_location|total_amount|\n",
      "+----------+----------+----------+-------------------+-------------------+---------------+----------------+------------+\n",
      "|b139d8e1b2|320be8068b|0d52304987|2024-02-28 08:05:00|2024-03-01 05:05:00|           1497|            6785|       450.0|\n",
      "|7afd60f6d3|320be8068b|975d72985c|2024-01-07 20:16:00|2024-01-09 21:16:00|           5345|            2608|      2450.0|\n",
      "|733a9361bc|8f31b734a6|0d9f0f0fb9|2024-01-07 09:36:00|2024-01-07 17:36:00|           2546|            5442|        80.0|\n",
      "|6e546b69dd|8f31b734a6|967fdab45e|2024-01-05 11:30:00|2024-01-07 04:30:00|           8147|            4380|      2050.0|\n",
      "|acc192b64a|8f31b734a6|32d58ea4b7|2024-03-06 18:19:00|2024-03-09 14:19:00|           6290|            8932|      1360.0|\n",
      "+----------+----------+----------+-------------------+-------------------+---------------+----------------+------------+\n",
      "only showing top 5 rows\n",
      "\n"
     ]
    }
   ],
   "source": [
    "transactions.show(5)"
   ]
  },
  {
   "cell_type": "code",
   "execution_count": 9,
   "metadata": {},
   "outputs": [
    {
     "name": "stdout",
     "output_type": "stream",
     "text": [
      "+----------+----------+---------+--------------------+------------------+---------------------+---------------------+-------------+---------+\n",
      "|   user_id|first_name|last_name|               email|      phone_number|driver_license_number|driver_license_expiry|creation_date|is_active|\n",
      "+----------+----------+---------+--------------------+------------------+---------------------+---------------------+-------------+---------+\n",
      "|26d08ab733|      Lisa|   Parker|lisa.parker@gmail...|334.271.2972x60554|             MO028963|           2033-06-21|   2024-05-26|        1|\n",
      "|0a0430e6f9|  Courtney|   Martin|courtney.martin@y...|  826-262-0518x252|             VW966518|           2028-09-28|   2024-05-22|        0|\n",
      "|eb5d10cccd|    Andrew|  Mcclain|andrew.mcclain@ho...|   +1-467-858-1702|             WL839491|           2028-09-01|   2024-01-29|        1|\n",
      "|2a59127ee0|   Michael|   Hoover|michael.hoover@ya...|  001-220-342-6250|             UI603163|           2028-11-29|   2024-03-22|        1|\n",
      "|e3a46a2a11|     Molly|   Brooks|molly.brooks@yaho...|   +1-595-498-7645|             BJ158232|           2025-01-24|   2024-03-02|        1|\n",
      "+----------+----------+---------+--------------------+------------------+---------------------+---------------------+-------------+---------+\n",
      "only showing top 5 rows\n",
      "\n"
     ]
    }
   ],
   "source": [
    "users.show(5)"
   ]
  },
  {
   "cell_type": "code",
   "execution_count": 10,
   "metadata": {},
   "outputs": [
    {
     "name": "stdout",
     "output_type": "stream",
     "text": [
      "+------+----------------------+--------------------+----------------+---------------+---------------------+------------------+------------+---------------------+--------------------+----------+---------------------+---------+------------+\n",
      "|active|vehicle_license_number|   registration_name|    license_type|expiration_date|permit_license_number|certification_date|vehicle_year|base_telephone_number|        base_address|vehicle_id|last_update_timestamp|    brand|vehicle_type|\n",
      "+------+----------------------+--------------------+----------------+---------------+---------------------+------------------+------------+---------------------+--------------------+----------+---------------------+---------+------------+\n",
      "|     1|               5818886|CITY,LIVERY,LEASI...|FOR HIRE VEHICLE|     27-09-2025|             6EPABCVK|        2018-01-09|        2018|        (646)780-0129|1515 THIRD STREET...|67789f742d|  04-06-2024 13:25:00|  Ferrari|    high_end|\n",
      "|     1|               5520432|    FERNANDEZ,JOSE,A|FOR HIRE VEHICLE|     08-01-2026|             IC0VQ8EC|        2015-01-21|        2015|        (646)780-0129|1515 THIRD STREET...|70e8c42e4f|  04-06-2024 13:25:00|      BMW|     premium|\n",
      "|     1|               5790608| RIGO,LIMO-AUTO,CORP|FOR HIRE VEHICLE|     19-06-2025|             AGTGT62I|        2020-03-31|        2020|        (646)780-0129|1515 THIRD STREET...|aa2522d199|  04-06-2024 13:25:00|   Toyota|       basic|\n",
      "|     1|               6045671|    NARZIEV,LAZIZJON|FOR HIRE VEHICLE|     22-11-2025|             OO9QLG6E|        2022-11-09|        2022|        (646)780-0129|1515 THIRD STREET...|0984531ace|  04-06-2024 13:25:00|Chevrolet|       basic|\n",
      "|     1|               6022074|         YAQOOB,SAAD|FOR HIRE VEHICLE|     05-04-2025|             3U109JZC|        2018-11-29|        2018|        (646)780-0129|1515 THIRD STREET...|1ee2538be7|  04-06-2024 13:25:00|    Tesla|    high_end|\n",
      "+------+----------------------+--------------------+----------------+---------------+---------------------+------------------+------------+---------------------+--------------------+----------+---------------------+---------+------------+\n",
      "only showing top 5 rows\n",
      "\n"
     ]
    }
   ],
   "source": [
    "vehicles.show(5)"
   ]
  },
  {
   "cell_type": "markdown",
   "metadata": {},
   "source": [
    "### Spark Job 1"
   ]
  },
  {
   "cell_type": "code",
   "execution_count": 12,
   "metadata": {},
   "outputs": [
    {
     "name": "stdout",
     "output_type": "stream",
     "text": [
      "+---------------+-------------+\n",
      "|pickup_location|total_revenue|\n",
      "+---------------+-------------+\n",
      "|           1959|      58090.0|\n",
      "|           8928|      43470.0|\n",
      "|           1507|      57120.0|\n",
      "|           8932|      53890.0|\n",
      "|           9182|      63900.0|\n",
      "+---------------+-------------+\n",
      "only showing top 5 rows\n",
      "\n"
     ]
    }
   ],
   "source": [
    "#  Revenue per Location\n",
    "revenue_per_location_df = transactions.groupBy(\"pickup_location\").agg(F.sum(\"total_amount\").alias(\"total_revenue\"))\n",
    "revenue_per_location_df.show(5)"
   ]
  },
  {
   "cell_type": "code",
   "execution_count": 14,
   "metadata": {},
   "outputs": [
    {
     "name": "stdout",
     "output_type": "stream",
     "text": [
      "+---------------+------------------+\n",
      "|pickup_location|total_transactions|\n",
      "+---------------+------------------+\n",
      "|           1959|                69|\n",
      "|           8928|                66|\n",
      "|           1507|                77|\n",
      "|           8932|                65|\n",
      "|           9182|                75|\n",
      "+---------------+------------------+\n",
      "only showing top 5 rows\n",
      "\n"
     ]
    }
   ],
   "source": [
    "# Total Transactions per Location\n",
    "transactions_per_location_df = transactions.groupBy(\"pickup_location\").agg(F.count(\"rental_id\").alias(\"total_transactions\"))\n",
    "transactions_per_location_df.show(5)"
   ]
  },
  {
   "cell_type": "code",
   "execution_count": 16,
   "metadata": {},
   "outputs": [
    {
     "name": "stdout",
     "output_type": "stream",
     "text": [
      "+---------------+-----------------+---------------+---------------+\n",
      "|pickup_location|  avg_transaction|max_transaction|min_transaction|\n",
      "+---------------+-----------------+---------------+---------------+\n",
      "|           1959|841.8840579710145|         3600.0|           60.0|\n",
      "|           8928|658.6363636363636|         3200.0|           30.0|\n",
      "|           1507|741.8181818181819|         3250.0|           40.0|\n",
      "|           8932|829.0769230769231|         3500.0|           40.0|\n",
      "|           9182|            852.0|         3450.0|           20.0|\n",
      "+---------------+-----------------+---------------+---------------+\n",
      "only showing top 5 rows\n",
      "\n"
     ]
    }
   ],
   "source": [
    "# Average, Max, and Min Transaction Amounts\n",
    "transaction_amounts_df = transactions.groupBy(\"pickup_location\").agg(\n",
    "    F.avg(\"total_amount\").alias(\"avg_transaction\"),\n",
    "    F.max(\"total_amount\").alias(\"max_transaction\"),\n",
    "    F.min(\"total_amount\").alias(\"min_transaction\")\n",
    ")\n",
    "transaction_amounts_df.show(5)"
   ]
  },
  {
   "cell_type": "code",
   "execution_count": 17,
   "metadata": {},
   "outputs": [
    {
     "name": "stdout",
     "output_type": "stream",
     "text": [
      "+---------------+---------------+\n",
      "|pickup_location|unique_vehicles|\n",
      "+---------------+---------------+\n",
      "|           1959|             69|\n",
      "|           8928|             66|\n",
      "|           9182|             75|\n",
      "|           8932|             65|\n",
      "|           1507|             77|\n",
      "+---------------+---------------+\n",
      "only showing top 5 rows\n",
      "\n"
     ]
    }
   ],
   "source": [
    "# Unique Vehicles Used at Each Location\n",
    "unique_vehicles_per_location_df = transactions.groupBy(\"pickup_location\").agg(F.countDistinct(\"vehicle_id\").alias(\"unique_vehicles\"))\n",
    "unique_vehicles_per_location_df.show(5)"
   ]
  },
  {
   "cell_type": "code",
   "execution_count": 23,
   "metadata": {},
   "outputs": [
    {
     "name": "stdout",
     "output_type": "stream",
     "text": [
      "+----------+----------+----------+-------------------+-------------------+---------------+----------------+------------+------------+\n",
      "| rental_id|   user_id|vehicle_id|  rental_start_time|    rental_end_time|pickup_location|dropoff_location|total_amount|vehicle_type|\n",
      "+----------+----------+----------+-------------------+-------------------+---------------+----------------+------------+------------+\n",
      "|b139d8e1b2|320be8068b|0d52304987|2024-02-28 08:05:00|2024-03-01 05:05:00|           1497|            6785|       450.0|       basic|\n",
      "|7afd60f6d3|320be8068b|975d72985c|2024-01-07 20:16:00|2024-01-09 21:16:00|           5345|            2608|      2450.0|    high_end|\n",
      "|733a9361bc|8f31b734a6|0d9f0f0fb9|2024-01-07 09:36:00|2024-01-07 17:36:00|           2546|            5442|        80.0|       basic|\n",
      "|6e546b69dd|8f31b734a6|967fdab45e|2024-01-05 11:30:00|2024-01-07 04:30:00|           8147|            4380|      2050.0|    high_end|\n",
      "|acc192b64a|8f31b734a6|32d58ea4b7|2024-03-06 18:19:00|2024-03-09 14:19:00|           6290|            8932|      1360.0|     premium|\n",
      "+----------+----------+----------+-------------------+-------------------+---------------+----------------+------------+------------+\n",
      "only showing top 5 rows\n",
      "\n"
     ]
    }
   ],
   "source": [
    "transactions_with_vehicle_type_df = transactions.alias(\"t\").join(\n",
    "    vehicles.alias(\"v\"), F.col(\"t.vehicle_id\") == F.col(\"v.vehicle_id\"), \"left\"\n",
    ").select(\n",
    "    F.col(\"t.rental_id\").alias(\"rental_id\"),\n",
    "    F.col(\"t.user_id\").alias(\"user_id\"),\n",
    "    F.col(\"t.vehicle_id\").alias(\"vehicle_id\"),\n",
    "    F.col(\"t.rental_start_time\").alias(\"rental_start_time\"),\n",
    "    F.col(\"t.rental_end_time\").alias(\"rental_end_time\"),\n",
    "    F.col(\"t.pickup_location\").alias(\"pickup_location\"),\n",
    "    F.col(\"t.dropoff_location\").alias(\"dropoff_location\"),\n",
    "    F.col(\"t.total_amount\").alias(\"total_amount\"),\n",
    "    F.col(\"v.vehicle_type\").alias(\"vehicle_type\")\n",
    ")\n",
    "transactions_with_vehicle_type_df.show(5)"
   ]
  },
  {
   "cell_type": "code",
   "execution_count": 29,
   "metadata": {},
   "outputs": [
    {
     "name": "stdout",
     "output_type": "stream",
     "text": [
      "+---------------+-------------------------+---------------------------------+\n",
      "|pickup_location|total_revenue_by_location|total_rental_duration_by_location|\n",
      "+---------------+-------------------------+---------------------------------+\n",
      "|           1959|                  58090.0|                           2770.0|\n",
      "|           8928|                  43470.0|                           2230.0|\n",
      "|           1507|                  57120.0|                           2897.0|\n",
      "|           8932|                  53890.0|                           2318.0|\n",
      "|           9182|                  63900.0|                           2626.0|\n",
      "+---------------+-------------------------+---------------------------------+\n",
      "only showing top 5 rows\n",
      "\n"
     ]
    }
   ],
   "source": [
    "# Rental Duration and Revenue by Location\n",
    "# Calculate rental duration in hours and aggregate revenue and duration by location\n",
    "rental_duration_revenue_by_location_df = transactions.withColumn(\n",
    "    \"rental_duration_hours\", \n",
    "    (F.col(\"rental_end_time\").cast(\"long\") - F.col(\"rental_start_time\").cast(\"long\")) / 3600\n",
    ").groupBy(\"pickup_location\").agg(\n",
    "    F.sum(\"total_amount\").alias(\"total_revenue_by_location\"),\n",
    "    F.sum(\"rental_duration_hours\").alias(\"total_rental_duration_by_location\")\n",
    ")\n",
    "rental_duration_revenue_by_location_df.show(5)"
   ]
  },
  {
   "cell_type": "code",
   "execution_count": 31,
   "metadata": {},
   "outputs": [
    {
     "name": "stdout",
     "output_type": "stream",
     "text": [
      "+---------------+-------------+------------------+-----------------+---------------+---------------+---------------+-------------------------+---------------------------------+\n",
      "|pickup_location|total_revenue|total_transactions|  avg_transaction|max_transaction|min_transaction|unique_vehicles|total_revenue_by_location|total_rental_duration_by_location|\n",
      "+---------------+-------------+------------------+-----------------+---------------+---------------+---------------+-------------------------+---------------------------------+\n",
      "|           1959|      58090.0|                69|841.8840579710145|         3600.0|           60.0|             69|                  58090.0|                           2770.0|\n",
      "|           8928|      43470.0|                66|658.6363636363636|         3200.0|           30.0|             66|                  43470.0|                           2230.0|\n",
      "|           1507|      57120.0|                77|741.8181818181819|         3250.0|           40.0|             77|                  57120.0|                           2897.0|\n",
      "|           8932|      53890.0|                65|829.0769230769231|         3500.0|           40.0|             65|                  53890.0|                           2318.0|\n",
      "|           9182|      63900.0|                75|            852.0|         3450.0|           20.0|             75|                  63900.0|                           2626.0|\n",
      "+---------------+-------------+------------------+-----------------+---------------+---------------+---------------+-------------------------+---------------------------------+\n",
      "only showing top 5 rows\n",
      "\n"
     ]
    }
   ],
   "source": [
    "# Join all KPIs on location (and vehicle_type where applicable)\n",
    "\n",
    "final_kpi_df = revenue_per_location_df \\\n",
    "        .join(transactions_per_location_df, \"pickup_location\", \"left\") \\\n",
    "        .join(transaction_amounts_df, \"pickup_location\", \"left\") \\\n",
    "        .join(unique_vehicles_per_location_df, \"pickup_location\", \"left\") \\\n",
    "        .join(rental_duration_revenue_by_location_df, \"pickup_location\", \"left\")\n",
    "\n",
    "final_kpi_df.show(5)"
   ]
  },
  {
   "cell_type": "markdown",
   "metadata": {},
   "source": [
    "### Spark Job 2"
   ]
  }
 ],
 "metadata": {
  "kernelspec": {
   "display_name": "pyspark",
   "language": "python",
   "name": "python3"
  },
  "language_info": {
   "codemirror_mode": {
    "name": "ipython",
    "version": 3
   },
   "file_extension": ".py",
   "mimetype": "text/x-python",
   "name": "python",
   "nbconvert_exporter": "python",
   "pygments_lexer": "ipython3",
   "version": "3.13.0"
  }
 },
 "nbformat": 4,
 "nbformat_minor": 2
}
